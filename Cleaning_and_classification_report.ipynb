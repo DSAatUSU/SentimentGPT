{
  "nbformat": 4,
  "nbformat_minor": 0,
  "metadata": {
    "colab": {
      "provenance": []
    },
    "kernelspec": {
      "name": "python3",
      "display_name": "Python 3"
    },
    "language_info": {
      "name": "python"
    }
  },
  "cells": [
    {
      "cell_type": "code",
      "execution_count": 14,
      "metadata": {
        "id": "ptCpgWpTF1GA"
      },
      "outputs": [],
      "source": [
        "import numpy as np\n",
        "import pandas as pd\n",
        "from sklearn.metrics import accuracy_score, classification_report\n",
        "\n",
        "df= pd.DataFrame(pd.read_csv(\"/content/sentiment_test4000.csv\"))"
      ]
    },
    {
      "cell_type": "code",
      "source": [
        "df.drop(columns=['Unnamed: 4'], inplace= True)"
      ],
      "metadata": {
        "id": "nqFNy-XZazyQ"
      },
      "execution_count": 15,
      "outputs": []
    },
    {
      "cell_type": "code",
      "source": [
        "df"
      ],
      "metadata": {
        "id": "jecDA68ObZnp"
      },
      "execution_count": null,
      "outputs": []
    },
    {
      "cell_type": "code",
      "source": [
        "df['Response'] = df.apply(lambda row: row['label'] if pd.isnull(row['Response']) else row['Response'], axis=1)\n"
      ],
      "metadata": {
        "id": "oIMtr_-qa90a"
      },
      "execution_count": 17,
      "outputs": []
    },
    {
      "cell_type": "code",
      "source": [
        "df.Response.value_counts()"
      ],
      "metadata": {
        "id": "gDveXt_hcKXx"
      },
      "execution_count": null,
      "outputs": []
    },
    {
      "cell_type": "code",
      "source": [
        "def string_to_int(s):\n",
        "    try:\n",
        "        return int(s)\n",
        "    except ValueError:\n",
        "        print(f\"'{s}' is not a valid integer string.\")\n",
        "        return None\n"
      ],
      "metadata": {
        "id": "BRf4bvedcjdC"
      },
      "execution_count": 20,
      "outputs": []
    },
    {
      "cell_type": "code",
      "source": [
        "filtered_df = df[~df['Response'].isin([0, 1, 2])]"
      ],
      "metadata": {
        "id": "tsDSaV3hdNQY"
      },
      "execution_count": 29,
      "outputs": []
    },
    {
      "cell_type": "code",
      "source": [
        "df['Response'].iloc[3262]=0\n",
        "df['Explanation'].iloc[3262]=\"The use of phrases like ur $2 trip is now $4 and #timeisvaluable suggests annoyance at the perceived unfairness of the situation. The hashtags used also indicate a sense of dissatisfaction with the service.\""
      ],
      "metadata": {
        "id": "ueqsf7tRdo-5"
      },
      "execution_count": null,
      "outputs": []
    },
    {
      "cell_type": "code",
      "source": [
        "df['text'].iloc[4477]"
      ],
      "metadata": {
        "id": "Mzc_Tn_4eiAa"
      },
      "execution_count": null,
      "outputs": []
    },
    {
      "cell_type": "code",
      "source": [
        "df['Response'].iloc[4477]"
      ],
      "metadata": {
        "id": "DjLCT3reeY1X"
      },
      "execution_count": null,
      "outputs": []
    },
    {
      "cell_type": "code",
      "source": [
        "df['Explanation'].iloc[4477]=df['Response'].iloc[4477]\n",
        "df['Response'].iloc[4477]=1"
      ],
      "metadata": {
        "id": "TGTEP-gVeEBc"
      },
      "execution_count": null,
      "outputs": []
    },
    {
      "cell_type": "code",
      "source": [
        "filtered_df"
      ],
      "metadata": {
        "id": "jUcN-mGDdjjT"
      },
      "execution_count": null,
      "outputs": []
    },
    {
      "cell_type": "code",
      "source": [
        "df['Response'][df['Response']==\"1\"]=1\n",
        "df['Response'][df['Response']==\"1 \"]=1\n",
        "df['Response'][df['Response']==\"2\"]=2\n",
        "df['Response'][df['Response']==\"0\"]=0\n",
        "df.replace('Mixed', 1, inplace=True)\n"
      ],
      "metadata": {
        "id": "HwL9uW6ncxi3"
      },
      "execution_count": null,
      "outputs": []
    },
    {
      "cell_type": "code",
      "source": [
        "df.label.value_counts()"
      ],
      "metadata": {
        "id": "5_AzL2NRewpy"
      },
      "execution_count": null,
      "outputs": []
    },
    {
      "cell_type": "code",
      "source": [
        "df.Response.value_counts()"
      ],
      "metadata": {
        "id": "rQvHYNdKe1Kr"
      },
      "execution_count": null,
      "outputs": []
    },
    {
      "cell_type": "code",
      "source": [
        "true_labels = df['label'].values\n",
        "predictions = df['Response'].values\n",
        "true_labels = true_labels.astype(int)\n",
        "predictions = predictions.astype(int)\n",
        "\n",
        "# Compute accuracy\n",
        "accuracy = accuracy_score(true_labels, predictions)\n",
        "print(f\"Accuracy: {accuracy}\")\n",
        "\n",
        "# Compute multi-class recall, precision, f1-score, etc.\n",
        "report = classification_report(true_labels, predictions)\n",
        "print(report)"
      ],
      "metadata": {
        "colab": {
          "base_uri": "https://localhost:8080/"
        },
        "id": "bPfOMNUObflb",
        "outputId": "7c51d54c-ceb8-4a1b-afd6-d4b463bb2e30"
      },
      "execution_count": 50,
      "outputs": [
        {
          "output_type": "stream",
          "name": "stdout",
          "text": [
            "Accuracy: 0.9594652867615352\n",
            "              precision    recall  f1-score   support\n",
            "\n",
            "           0       0.94      0.97      0.95      1443\n",
            "           1       0.98      0.94      0.96      2284\n",
            "           2       0.95      0.98      0.96       911\n",
            "\n",
            "    accuracy                           0.96      4638\n",
            "   macro avg       0.95      0.96      0.96      4638\n",
            "weighted avg       0.96      0.96      0.96      4638\n",
            "\n"
          ]
        }
      ]
    },
    {
      "cell_type": "code",
      "source": [],
      "metadata": {
        "id": "4fJZzaxbfJrd"
      },
      "execution_count": null,
      "outputs": []
    }
  ]
}